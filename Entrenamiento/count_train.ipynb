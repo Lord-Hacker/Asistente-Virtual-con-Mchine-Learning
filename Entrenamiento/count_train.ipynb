{
  "nbformat": 4,
  "nbformat_minor": 0,
  "metadata": {
    "colab": {
      "provenance": []
    },
    "kernelspec": {
      "name": "python3",
      "display_name": "Python 3"
    },
    "language_info": {
      "name": "python"
    }
  },
  "cells": [
    {
      "cell_type": "markdown",
      "source": [
        "#Adquisición de datos"
      ],
      "metadata": {
        "id": "MUsvNrvublao"
      }
    },
    {
      "cell_type": "code",
      "source": [
        "import numpy as np\n",
        "import pandas as pd\n",
        "from sklearn.model_selection import train_test_split"
      ],
      "metadata": {
        "id": "QFcLOj23YwWW"
      },
      "execution_count": null,
      "outputs": []
    },
    {
      "cell_type": "code",
      "source": [
        "df = pd.read_csv('cords_balanced.csv')"
      ],
      "metadata": {
        "id": "ztofQFO1Yuaz"
      },
      "execution_count": null,
      "outputs": []
    },
    {
      "cell_type": "code",
      "source": [
        "df.head()"
      ],
      "metadata": {
        "colab": {
          "base_uri": "https://localhost:8080/",
          "height": 256
        },
        "id": "sS9UZfk9aP0r",
        "outputId": "ff947cf7-e2b8-44e8-849d-08ad44fa6911"
      },
      "execution_count": null,
      "outputs": [
        {
          "output_type": "execute_result",
          "data": {
            "text/plain": [
              "  class        x1        y1        z1        v1        x2        y2        z2  \\\n",
              "0  down  0.491681  0.146931 -0.629843  0.999992  0.498723  0.122416 -0.628143   \n",
              "1  down  0.491223  0.112327 -0.658368  0.999987  0.498300  0.086046 -0.655343   \n",
              "2  down  0.490951  0.094130 -0.700939  0.999986  0.498258  0.067399 -0.695552   \n",
              "3  down  0.490965  0.092406 -0.705390  0.999986  0.498464  0.065602 -0.700312   \n",
              "4    up  0.502778 -0.088485 -0.580676  0.999289  0.511298 -0.102615 -0.564815   \n",
              "\n",
              "         v2        x3  ...       z31       v31       x32       y32       z32  \\\n",
              "0  0.999986  0.504355  ...  0.011614  0.851506  0.548940  0.685142 -0.138369   \n",
              "1  0.999980  0.503906  ... -0.014931  0.827303  0.548316  0.694312 -0.174680   \n",
              "2  0.999978  0.503845  ... -0.015446  0.820611  0.548311  0.694243 -0.180046   \n",
              "3  0.999978  0.503954  ... -0.014119  0.815460  0.548465  0.694522 -0.177772   \n",
              "4  0.997112  0.516612  ...  0.433625  0.898592  0.556493  0.998807  0.295826   \n",
              "\n",
              "        v32       x33       y33       z33       v33  \n",
              "0  0.922728  0.441276  0.679099 -0.124184  0.962703  \n",
              "1  0.915961  0.442682  0.689076 -0.157204  0.957617  \n",
              "2  0.913556  0.442863  0.689990 -0.165039  0.956413  \n",
              "3  0.912143  0.442891  0.690374 -0.164462  0.955755  \n",
              "4  0.983766  0.455504  0.999895  0.262883  0.986771  \n",
              "\n",
              "[5 rows x 133 columns]"
            ],
            "text/html": [
              "\n",
              "  <div id=\"df-35d831e8-e3f6-42c2-a7e2-87c2fcc354b7\" class=\"colab-df-container\">\n",
              "    <div>\n",
              "<style scoped>\n",
              "    .dataframe tbody tr th:only-of-type {\n",
              "        vertical-align: middle;\n",
              "    }\n",
              "\n",
              "    .dataframe tbody tr th {\n",
              "        vertical-align: top;\n",
              "    }\n",
              "\n",
              "    .dataframe thead th {\n",
              "        text-align: right;\n",
              "    }\n",
              "</style>\n",
              "<table border=\"1\" class=\"dataframe\">\n",
              "  <thead>\n",
              "    <tr style=\"text-align: right;\">\n",
              "      <th></th>\n",
              "      <th>class</th>\n",
              "      <th>x1</th>\n",
              "      <th>y1</th>\n",
              "      <th>z1</th>\n",
              "      <th>v1</th>\n",
              "      <th>x2</th>\n",
              "      <th>y2</th>\n",
              "      <th>z2</th>\n",
              "      <th>v2</th>\n",
              "      <th>x3</th>\n",
              "      <th>...</th>\n",
              "      <th>z31</th>\n",
              "      <th>v31</th>\n",
              "      <th>x32</th>\n",
              "      <th>y32</th>\n",
              "      <th>z32</th>\n",
              "      <th>v32</th>\n",
              "      <th>x33</th>\n",
              "      <th>y33</th>\n",
              "      <th>z33</th>\n",
              "      <th>v33</th>\n",
              "    </tr>\n",
              "  </thead>\n",
              "  <tbody>\n",
              "    <tr>\n",
              "      <th>0</th>\n",
              "      <td>down</td>\n",
              "      <td>0.491681</td>\n",
              "      <td>0.146931</td>\n",
              "      <td>-0.629843</td>\n",
              "      <td>0.999992</td>\n",
              "      <td>0.498723</td>\n",
              "      <td>0.122416</td>\n",
              "      <td>-0.628143</td>\n",
              "      <td>0.999986</td>\n",
              "      <td>0.504355</td>\n",
              "      <td>...</td>\n",
              "      <td>0.011614</td>\n",
              "      <td>0.851506</td>\n",
              "      <td>0.548940</td>\n",
              "      <td>0.685142</td>\n",
              "      <td>-0.138369</td>\n",
              "      <td>0.922728</td>\n",
              "      <td>0.441276</td>\n",
              "      <td>0.679099</td>\n",
              "      <td>-0.124184</td>\n",
              "      <td>0.962703</td>\n",
              "    </tr>\n",
              "    <tr>\n",
              "      <th>1</th>\n",
              "      <td>down</td>\n",
              "      <td>0.491223</td>\n",
              "      <td>0.112327</td>\n",
              "      <td>-0.658368</td>\n",
              "      <td>0.999987</td>\n",
              "      <td>0.498300</td>\n",
              "      <td>0.086046</td>\n",
              "      <td>-0.655343</td>\n",
              "      <td>0.999980</td>\n",
              "      <td>0.503906</td>\n",
              "      <td>...</td>\n",
              "      <td>-0.014931</td>\n",
              "      <td>0.827303</td>\n",
              "      <td>0.548316</td>\n",
              "      <td>0.694312</td>\n",
              "      <td>-0.174680</td>\n",
              "      <td>0.915961</td>\n",
              "      <td>0.442682</td>\n",
              "      <td>0.689076</td>\n",
              "      <td>-0.157204</td>\n",
              "      <td>0.957617</td>\n",
              "    </tr>\n",
              "    <tr>\n",
              "      <th>2</th>\n",
              "      <td>down</td>\n",
              "      <td>0.490951</td>\n",
              "      <td>0.094130</td>\n",
              "      <td>-0.700939</td>\n",
              "      <td>0.999986</td>\n",
              "      <td>0.498258</td>\n",
              "      <td>0.067399</td>\n",
              "      <td>-0.695552</td>\n",
              "      <td>0.999978</td>\n",
              "      <td>0.503845</td>\n",
              "      <td>...</td>\n",
              "      <td>-0.015446</td>\n",
              "      <td>0.820611</td>\n",
              "      <td>0.548311</td>\n",
              "      <td>0.694243</td>\n",
              "      <td>-0.180046</td>\n",
              "      <td>0.913556</td>\n",
              "      <td>0.442863</td>\n",
              "      <td>0.689990</td>\n",
              "      <td>-0.165039</td>\n",
              "      <td>0.956413</td>\n",
              "    </tr>\n",
              "    <tr>\n",
              "      <th>3</th>\n",
              "      <td>down</td>\n",
              "      <td>0.490965</td>\n",
              "      <td>0.092406</td>\n",
              "      <td>-0.705390</td>\n",
              "      <td>0.999986</td>\n",
              "      <td>0.498464</td>\n",
              "      <td>0.065602</td>\n",
              "      <td>-0.700312</td>\n",
              "      <td>0.999978</td>\n",
              "      <td>0.503954</td>\n",
              "      <td>...</td>\n",
              "      <td>-0.014119</td>\n",
              "      <td>0.815460</td>\n",
              "      <td>0.548465</td>\n",
              "      <td>0.694522</td>\n",
              "      <td>-0.177772</td>\n",
              "      <td>0.912143</td>\n",
              "      <td>0.442891</td>\n",
              "      <td>0.690374</td>\n",
              "      <td>-0.164462</td>\n",
              "      <td>0.955755</td>\n",
              "    </tr>\n",
              "    <tr>\n",
              "      <th>4</th>\n",
              "      <td>up</td>\n",
              "      <td>0.502778</td>\n",
              "      <td>-0.088485</td>\n",
              "      <td>-0.580676</td>\n",
              "      <td>0.999289</td>\n",
              "      <td>0.511298</td>\n",
              "      <td>-0.102615</td>\n",
              "      <td>-0.564815</td>\n",
              "      <td>0.997112</td>\n",
              "      <td>0.516612</td>\n",
              "      <td>...</td>\n",
              "      <td>0.433625</td>\n",
              "      <td>0.898592</td>\n",
              "      <td>0.556493</td>\n",
              "      <td>0.998807</td>\n",
              "      <td>0.295826</td>\n",
              "      <td>0.983766</td>\n",
              "      <td>0.455504</td>\n",
              "      <td>0.999895</td>\n",
              "      <td>0.262883</td>\n",
              "      <td>0.986771</td>\n",
              "    </tr>\n",
              "  </tbody>\n",
              "</table>\n",
              "<p>5 rows × 133 columns</p>\n",
              "</div>\n",
              "    <div class=\"colab-df-buttons\">\n",
              "\n",
              "  <div class=\"colab-df-container\">\n",
              "    <button class=\"colab-df-convert\" onclick=\"convertToInteractive('df-35d831e8-e3f6-42c2-a7e2-87c2fcc354b7')\"\n",
              "            title=\"Convert this dataframe to an interactive table.\"\n",
              "            style=\"display:none;\">\n",
              "\n",
              "  <svg xmlns=\"http://www.w3.org/2000/svg\" height=\"24px\" viewBox=\"0 -960 960 960\">\n",
              "    <path d=\"M120-120v-720h720v720H120Zm60-500h600v-160H180v160Zm220 220h160v-160H400v160Zm0 220h160v-160H400v160ZM180-400h160v-160H180v160Zm440 0h160v-160H620v160ZM180-180h160v-160H180v160Zm440 0h160v-160H620v160Z\"/>\n",
              "  </svg>\n",
              "    </button>\n",
              "\n",
              "  <style>\n",
              "    .colab-df-container {\n",
              "      display:flex;\n",
              "      gap: 12px;\n",
              "    }\n",
              "\n",
              "    .colab-df-convert {\n",
              "      background-color: #E8F0FE;\n",
              "      border: none;\n",
              "      border-radius: 50%;\n",
              "      cursor: pointer;\n",
              "      display: none;\n",
              "      fill: #1967D2;\n",
              "      height: 32px;\n",
              "      padding: 0 0 0 0;\n",
              "      width: 32px;\n",
              "    }\n",
              "\n",
              "    .colab-df-convert:hover {\n",
              "      background-color: #E2EBFA;\n",
              "      box-shadow: 0px 1px 2px rgba(60, 64, 67, 0.3), 0px 1px 3px 1px rgba(60, 64, 67, 0.15);\n",
              "      fill: #174EA6;\n",
              "    }\n",
              "\n",
              "    .colab-df-buttons div {\n",
              "      margin-bottom: 4px;\n",
              "    }\n",
              "\n",
              "    [theme=dark] .colab-df-convert {\n",
              "      background-color: #3B4455;\n",
              "      fill: #D2E3FC;\n",
              "    }\n",
              "\n",
              "    [theme=dark] .colab-df-convert:hover {\n",
              "      background-color: #434B5C;\n",
              "      box-shadow: 0px 1px 3px 1px rgba(0, 0, 0, 0.15);\n",
              "      filter: drop-shadow(0px 1px 2px rgba(0, 0, 0, 0.3));\n",
              "      fill: #FFFFFF;\n",
              "    }\n",
              "  </style>\n",
              "\n",
              "    <script>\n",
              "      const buttonEl =\n",
              "        document.querySelector('#df-35d831e8-e3f6-42c2-a7e2-87c2fcc354b7 button.colab-df-convert');\n",
              "      buttonEl.style.display =\n",
              "        google.colab.kernel.accessAllowed ? 'block' : 'none';\n",
              "\n",
              "      async function convertToInteractive(key) {\n",
              "        const element = document.querySelector('#df-35d831e8-e3f6-42c2-a7e2-87c2fcc354b7');\n",
              "        const dataTable =\n",
              "          await google.colab.kernel.invokeFunction('convertToInteractive',\n",
              "                                                    [key], {});\n",
              "        if (!dataTable) return;\n",
              "\n",
              "        const docLinkHtml = 'Like what you see? Visit the ' +\n",
              "          '<a target=\"_blank\" href=https://colab.research.google.com/notebooks/data_table.ipynb>data table notebook</a>'\n",
              "          + ' to learn more about interactive tables.';\n",
              "        element.innerHTML = '';\n",
              "        dataTable['output_type'] = 'display_data';\n",
              "        await google.colab.output.renderOutput(dataTable, element);\n",
              "        const docLink = document.createElement('div');\n",
              "        docLink.innerHTML = docLinkHtml;\n",
              "        element.appendChild(docLink);\n",
              "      }\n",
              "    </script>\n",
              "  </div>\n",
              "\n",
              "\n",
              "    <div id=\"df-0166e0e8-614e-4fc8-b33b-040a84afeb7b\">\n",
              "      <button class=\"colab-df-quickchart\" onclick=\"quickchart('df-0166e0e8-614e-4fc8-b33b-040a84afeb7b')\"\n",
              "                title=\"Suggest charts\"\n",
              "                style=\"display:none;\">\n",
              "\n",
              "<svg xmlns=\"http://www.w3.org/2000/svg\" height=\"24px\"viewBox=\"0 0 24 24\"\n",
              "     width=\"24px\">\n",
              "    <g>\n",
              "        <path d=\"M19 3H5c-1.1 0-2 .9-2 2v14c0 1.1.9 2 2 2h14c1.1 0 2-.9 2-2V5c0-1.1-.9-2-2-2zM9 17H7v-7h2v7zm4 0h-2V7h2v10zm4 0h-2v-4h2v4z\"/>\n",
              "    </g>\n",
              "</svg>\n",
              "      </button>\n",
              "\n",
              "<style>\n",
              "  .colab-df-quickchart {\n",
              "      --bg-color: #E8F0FE;\n",
              "      --fill-color: #1967D2;\n",
              "      --hover-bg-color: #E2EBFA;\n",
              "      --hover-fill-color: #174EA6;\n",
              "      --disabled-fill-color: #AAA;\n",
              "      --disabled-bg-color: #DDD;\n",
              "  }\n",
              "\n",
              "  [theme=dark] .colab-df-quickchart {\n",
              "      --bg-color: #3B4455;\n",
              "      --fill-color: #D2E3FC;\n",
              "      --hover-bg-color: #434B5C;\n",
              "      --hover-fill-color: #FFFFFF;\n",
              "      --disabled-bg-color: #3B4455;\n",
              "      --disabled-fill-color: #666;\n",
              "  }\n",
              "\n",
              "  .colab-df-quickchart {\n",
              "    background-color: var(--bg-color);\n",
              "    border: none;\n",
              "    border-radius: 50%;\n",
              "    cursor: pointer;\n",
              "    display: none;\n",
              "    fill: var(--fill-color);\n",
              "    height: 32px;\n",
              "    padding: 0;\n",
              "    width: 32px;\n",
              "  }\n",
              "\n",
              "  .colab-df-quickchart:hover {\n",
              "    background-color: var(--hover-bg-color);\n",
              "    box-shadow: 0 1px 2px rgba(60, 64, 67, 0.3), 0 1px 3px 1px rgba(60, 64, 67, 0.15);\n",
              "    fill: var(--button-hover-fill-color);\n",
              "  }\n",
              "\n",
              "  .colab-df-quickchart-complete:disabled,\n",
              "  .colab-df-quickchart-complete:disabled:hover {\n",
              "    background-color: var(--disabled-bg-color);\n",
              "    fill: var(--disabled-fill-color);\n",
              "    box-shadow: none;\n",
              "  }\n",
              "\n",
              "  .colab-df-spinner {\n",
              "    border: 2px solid var(--fill-color);\n",
              "    border-color: transparent;\n",
              "    border-bottom-color: var(--fill-color);\n",
              "    animation:\n",
              "      spin 1s steps(1) infinite;\n",
              "  }\n",
              "\n",
              "  @keyframes spin {\n",
              "    0% {\n",
              "      border-color: transparent;\n",
              "      border-bottom-color: var(--fill-color);\n",
              "      border-left-color: var(--fill-color);\n",
              "    }\n",
              "    20% {\n",
              "      border-color: transparent;\n",
              "      border-left-color: var(--fill-color);\n",
              "      border-top-color: var(--fill-color);\n",
              "    }\n",
              "    30% {\n",
              "      border-color: transparent;\n",
              "      border-left-color: var(--fill-color);\n",
              "      border-top-color: var(--fill-color);\n",
              "      border-right-color: var(--fill-color);\n",
              "    }\n",
              "    40% {\n",
              "      border-color: transparent;\n",
              "      border-right-color: var(--fill-color);\n",
              "      border-top-color: var(--fill-color);\n",
              "    }\n",
              "    60% {\n",
              "      border-color: transparent;\n",
              "      border-right-color: var(--fill-color);\n",
              "    }\n",
              "    80% {\n",
              "      border-color: transparent;\n",
              "      border-right-color: var(--fill-color);\n",
              "      border-bottom-color: var(--fill-color);\n",
              "    }\n",
              "    90% {\n",
              "      border-color: transparent;\n",
              "      border-bottom-color: var(--fill-color);\n",
              "    }\n",
              "  }\n",
              "</style>\n",
              "\n",
              "      <script>\n",
              "        async function quickchart(key) {\n",
              "          const quickchartButtonEl =\n",
              "            document.querySelector('#' + key + ' button');\n",
              "          quickchartButtonEl.disabled = true;  // To prevent multiple clicks.\n",
              "          quickchartButtonEl.classList.add('colab-df-spinner');\n",
              "          try {\n",
              "            const charts = await google.colab.kernel.invokeFunction(\n",
              "                'suggestCharts', [key], {});\n",
              "          } catch (error) {\n",
              "            console.error('Error during call to suggestCharts:', error);\n",
              "          }\n",
              "          quickchartButtonEl.classList.remove('colab-df-spinner');\n",
              "          quickchartButtonEl.classList.add('colab-df-quickchart-complete');\n",
              "        }\n",
              "        (() => {\n",
              "          let quickchartButtonEl =\n",
              "            document.querySelector('#df-0166e0e8-614e-4fc8-b33b-040a84afeb7b button');\n",
              "          quickchartButtonEl.style.display =\n",
              "            google.colab.kernel.accessAllowed ? 'block' : 'none';\n",
              "        })();\n",
              "      </script>\n",
              "    </div>\n",
              "\n",
              "    </div>\n",
              "  </div>\n"
            ],
            "application/vnd.google.colaboratory.intrinsic+json": {
              "type": "dataframe",
              "variable_name": "df"
            }
          },
          "metadata": {},
          "execution_count": 31
        }
      ]
    },
    {
      "cell_type": "code",
      "source": [
        "df[df['class']=='up']\n",
        "X = df.drop('class', axis=1)\n",
        "Y = df['class']"
      ],
      "metadata": {
        "id": "whmR9YWEagmF"
      },
      "execution_count": null,
      "outputs": []
    },
    {
      "cell_type": "code",
      "source": [
        "X_train, X_test, Y_train, Y_test = train_test_split(X, Y, test_size=0.2, random_state=42)"
      ],
      "metadata": {
        "id": "yrxG3TT0bI_a"
      },
      "execution_count": null,
      "outputs": []
    },
    {
      "cell_type": "code",
      "source": [
        "print(X_train.shape)\n",
        "print(Y_train.shape)\n",
        "print(X_test.shape)\n",
        "print(Y_test.shape)"
      ],
      "metadata": {
        "colab": {
          "base_uri": "https://localhost:8080/"
        },
        "id": "hZIF9l7Quw5P",
        "outputId": "e54b805f-7e8d-4c29-b8da-181154170975"
      },
      "execution_count": null,
      "outputs": [
        {
          "output_type": "stream",
          "name": "stdout",
          "text": [
            "(417, 132)\n",
            "(417,)\n",
            "(105, 132)\n",
            "(105,)\n"
          ]
        }
      ]
    },
    {
      "cell_type": "markdown",
      "source": [
        "#Entrenamiento con sklearn"
      ],
      "metadata": {
        "id": "CRnWrN6Xbwdz"
      }
    },
    {
      "cell_type": "code",
      "source": [
        "from sklearn.pipeline import make_pipeline\n",
        "from sklearn.preprocessing import StandardScaler\n",
        "\n",
        "from sklearn.linear_model import LogisticRegression, RidgeClassifier\n",
        "from sklearn.ensemble import RandomForestClassifier, GradientBoostingClassifier"
      ],
      "metadata": {
        "id": "4TYAxB_vb0UL"
      },
      "execution_count": null,
      "outputs": []
    },
    {
      "cell_type": "code",
      "source": [
        "pipelines = {\n",
        "    'lr':make_pipeline(StandardScaler(), LogisticRegression()),\n",
        "    'rc':make_pipeline(StandardScaler(), RidgeClassifier()),\n",
        "    'rf':make_pipeline(StandardScaler(), RandomForestClassifier()),\n",
        "    'gb':make_pipeline(StandardScaler(), GradientBoostingClassifier()),\n",
        "}"
      ],
      "metadata": {
        "id": "MGKeX6lscNHp"
      },
      "execution_count": null,
      "outputs": []
    },
    {
      "cell_type": "code",
      "source": [
        "fit_models = {}\n",
        "for algo, pipeline in pipelines.items():\n",
        "    model = pipeline.fit(X_train, Y_train)\n",
        "    fit_models[algo] = model"
      ],
      "metadata": {
        "id": "T8bZcPhpcTgV"
      },
      "execution_count": null,
      "outputs": []
    },
    {
      "cell_type": "code",
      "source": [
        "fit_models"
      ],
      "metadata": {
        "colab": {
          "base_uri": "https://localhost:8080/"
        },
        "id": "kBvKKFWicaA6",
        "outputId": "12c91f2b-ec86-41d8-fd57-8f11ed27eb06"
      },
      "execution_count": null,
      "outputs": [
        {
          "output_type": "execute_result",
          "data": {
            "text/plain": [
              "{'lr': Pipeline(steps=[('standardscaler', StandardScaler()),\n",
              "                 ('logisticregression', LogisticRegression())]),\n",
              " 'rc': Pipeline(steps=[('standardscaler', StandardScaler()),\n",
              "                 ('ridgeclassifier', RidgeClassifier())]),\n",
              " 'rf': Pipeline(steps=[('standardscaler', StandardScaler()),\n",
              "                 ('randomforestclassifier', RandomForestClassifier())]),\n",
              " 'gb': Pipeline(steps=[('standardscaler', StandardScaler()),\n",
              "                 ('gradientboostingclassifier', GradientBoostingClassifier())])}"
            ]
          },
          "metadata": {},
          "execution_count": 38
        }
      ]
    },
    {
      "cell_type": "code",
      "source": [
        "fit_models['lr'].predict(X_test)"
      ],
      "metadata": {
        "colab": {
          "base_uri": "https://localhost:8080/"
        },
        "id": "nuZ6l5-KdIbX",
        "outputId": "a359e788-451a-4e3c-d34b-d365e2cc3d1d"
      },
      "execution_count": null,
      "outputs": [
        {
          "output_type": "execute_result",
          "data": {
            "text/plain": [
              "array(['up', 'up', 'up', 'down', 'down', 'up', 'down', 'down', 'down',\n",
              "       'up', 'up', 'down', 'down', 'up', 'up', 'up', 'down', 'up', 'down',\n",
              "       'down', 'up', 'up', 'up', 'up', 'up', 'up', 'up', 'down', 'up',\n",
              "       'down', 'down', 'up', 'down', 'up', 'up', 'down', 'up', 'down',\n",
              "       'up', 'down', 'down', 'down', 'down', 'up', 'down', 'up', 'down',\n",
              "       'up', 'up', 'down', 'down', 'down', 'down', 'up', 'down', 'down',\n",
              "       'down', 'down', 'up', 'up', 'up', 'down', 'up', 'up', 'down', 'up',\n",
              "       'up', 'down', 'down', 'up', 'down', 'down', 'up', 'up', 'down',\n",
              "       'down', 'down', 'up', 'down', 'up', 'up', 'down', 'up', 'up', 'up',\n",
              "       'down', 'up', 'down', 'up', 'up', 'up', 'up', 'up', 'up', 'down',\n",
              "       'up', 'down', 'down', 'up', 'up', 'up', 'down', 'up', 'down',\n",
              "       'down'], dtype=object)"
            ]
          },
          "metadata": {},
          "execution_count": 39
        }
      ]
    },
    {
      "cell_type": "code",
      "source": [
        "Y_test"
      ],
      "metadata": {
        "colab": {
          "base_uri": "https://localhost:8080/",
          "height": 459
        },
        "id": "tEXStKvDqieK",
        "outputId": "a97ded82-2e08-42f4-e7c1-789e40afe224"
      },
      "execution_count": null,
      "outputs": [
        {
          "output_type": "execute_result",
          "data": {
            "text/plain": [
              "434      up\n",
              "440      up\n",
              "6        up\n",
              "184    down\n",
              "78     down\n",
              "       ... \n",
              "342      up\n",
              "412    down\n",
              "301      up\n",
              "428    down\n",
              "153    down\n",
              "Name: class, Length: 105, dtype: object"
            ],
            "text/html": [
              "<div>\n",
              "<style scoped>\n",
              "    .dataframe tbody tr th:only-of-type {\n",
              "        vertical-align: middle;\n",
              "    }\n",
              "\n",
              "    .dataframe tbody tr th {\n",
              "        vertical-align: top;\n",
              "    }\n",
              "\n",
              "    .dataframe thead th {\n",
              "        text-align: right;\n",
              "    }\n",
              "</style>\n",
              "<table border=\"1\" class=\"dataframe\">\n",
              "  <thead>\n",
              "    <tr style=\"text-align: right;\">\n",
              "      <th></th>\n",
              "      <th>class</th>\n",
              "    </tr>\n",
              "  </thead>\n",
              "  <tbody>\n",
              "    <tr>\n",
              "      <th>434</th>\n",
              "      <td>up</td>\n",
              "    </tr>\n",
              "    <tr>\n",
              "      <th>440</th>\n",
              "      <td>up</td>\n",
              "    </tr>\n",
              "    <tr>\n",
              "      <th>6</th>\n",
              "      <td>up</td>\n",
              "    </tr>\n",
              "    <tr>\n",
              "      <th>184</th>\n",
              "      <td>down</td>\n",
              "    </tr>\n",
              "    <tr>\n",
              "      <th>78</th>\n",
              "      <td>down</td>\n",
              "    </tr>\n",
              "    <tr>\n",
              "      <th>...</th>\n",
              "      <td>...</td>\n",
              "    </tr>\n",
              "    <tr>\n",
              "      <th>342</th>\n",
              "      <td>up</td>\n",
              "    </tr>\n",
              "    <tr>\n",
              "      <th>412</th>\n",
              "      <td>down</td>\n",
              "    </tr>\n",
              "    <tr>\n",
              "      <th>301</th>\n",
              "      <td>up</td>\n",
              "    </tr>\n",
              "    <tr>\n",
              "      <th>428</th>\n",
              "      <td>down</td>\n",
              "    </tr>\n",
              "    <tr>\n",
              "      <th>153</th>\n",
              "      <td>down</td>\n",
              "    </tr>\n",
              "  </tbody>\n",
              "</table>\n",
              "<p>105 rows × 1 columns</p>\n",
              "</div><br><label><b>dtype:</b> object</label>"
            ]
          },
          "metadata": {},
          "execution_count": 40
        }
      ]
    },
    {
      "cell_type": "markdown",
      "source": [
        "#Evaluación y exportado a pickle"
      ],
      "metadata": {
        "id": "1tE8rD2bdT-C"
      }
    },
    {
      "cell_type": "code",
      "source": [
        "from sklearn.metrics import accuracy_score, precision_score, recall_score\n",
        "import pickle"
      ],
      "metadata": {
        "id": "TOsY8nEHdhV9"
      },
      "execution_count": null,
      "outputs": []
    },
    {
      "cell_type": "code",
      "source": [
        "#Métricas para distintos modelos\n",
        "for algo, model in fit_models.items():\n",
        "    yhat = model.predict(X_test)\n",
        "    print(algo, accuracy_score(Y_test.values, yhat),\n",
        "          precision_score(Y_test.values, yhat, average=\"binary\", pos_label=\"up\"),\n",
        "          recall_score(Y_test.values, yhat, average=\"binary\", pos_label=\"up\"))"
      ],
      "metadata": {
        "colab": {
          "base_uri": "https://localhost:8080/"
        },
        "id": "fBsM-Em3d4lf",
        "outputId": "ab501137-81a9-4a23-c1b6-5a8a4c958966"
      },
      "execution_count": null,
      "outputs": [
        {
          "output_type": "stream",
          "name": "stdout",
          "text": [
            "lr 1.0 1.0 1.0\n",
            "rc 1.0 1.0 1.0\n",
            "rf 1.0 1.0 1.0\n",
            "gb 1.0 1.0 1.0\n"
          ]
        }
      ]
    },
    {
      "cell_type": "code",
      "source": [
        "yhat = fit_models['rf'].predict(X_test)\n",
        "print(accuracy_score(Y_test, yhat))"
      ],
      "metadata": {
        "colab": {
          "base_uri": "https://localhost:8080/"
        },
        "id": "q9UHedR6d9kX",
        "outputId": "2653c390-2dfd-4966-b4b9-6c2ec6aa4b21"
      },
      "execution_count": null,
      "outputs": [
        {
          "output_type": "stream",
          "name": "stdout",
          "text": [
            "1.0\n"
          ]
        }
      ]
    },
    {
      "cell_type": "code",
      "source": [
        "yhat[:10]"
      ],
      "metadata": {
        "colab": {
          "base_uri": "https://localhost:8080/"
        },
        "id": "vexuG0-oekHc",
        "outputId": "6a02a16d-cae4-47bb-c6fd-fe005f37d7cc"
      },
      "execution_count": null,
      "outputs": [
        {
          "output_type": "execute_result",
          "data": {
            "text/plain": [
              "array(['up', 'up', 'up', 'down', 'down', 'up', 'down', 'down', 'down',\n",
              "       'up'], dtype=object)"
            ]
          },
          "metadata": {},
          "execution_count": 44
        }
      ]
    },
    {
      "cell_type": "code",
      "source": [
        "Y_test"
      ],
      "metadata": {
        "colab": {
          "base_uri": "https://localhost:8080/",
          "height": 459
        },
        "id": "35raA4wknRyh",
        "outputId": "bbfac97e-0dac-49ca-ddf9-84390cfb3286"
      },
      "execution_count": null,
      "outputs": [
        {
          "output_type": "execute_result",
          "data": {
            "text/plain": [
              "434      up\n",
              "440      up\n",
              "6        up\n",
              "184    down\n",
              "78     down\n",
              "       ... \n",
              "342      up\n",
              "412    down\n",
              "301      up\n",
              "428    down\n",
              "153    down\n",
              "Name: class, Length: 105, dtype: object"
            ],
            "text/html": [
              "<div>\n",
              "<style scoped>\n",
              "    .dataframe tbody tr th:only-of-type {\n",
              "        vertical-align: middle;\n",
              "    }\n",
              "\n",
              "    .dataframe tbody tr th {\n",
              "        vertical-align: top;\n",
              "    }\n",
              "\n",
              "    .dataframe thead th {\n",
              "        text-align: right;\n",
              "    }\n",
              "</style>\n",
              "<table border=\"1\" class=\"dataframe\">\n",
              "  <thead>\n",
              "    <tr style=\"text-align: right;\">\n",
              "      <th></th>\n",
              "      <th>class</th>\n",
              "    </tr>\n",
              "  </thead>\n",
              "  <tbody>\n",
              "    <tr>\n",
              "      <th>434</th>\n",
              "      <td>up</td>\n",
              "    </tr>\n",
              "    <tr>\n",
              "      <th>440</th>\n",
              "      <td>up</td>\n",
              "    </tr>\n",
              "    <tr>\n",
              "      <th>6</th>\n",
              "      <td>up</td>\n",
              "    </tr>\n",
              "    <tr>\n",
              "      <th>184</th>\n",
              "      <td>down</td>\n",
              "    </tr>\n",
              "    <tr>\n",
              "      <th>78</th>\n",
              "      <td>down</td>\n",
              "    </tr>\n",
              "    <tr>\n",
              "      <th>...</th>\n",
              "      <td>...</td>\n",
              "    </tr>\n",
              "    <tr>\n",
              "      <th>342</th>\n",
              "      <td>up</td>\n",
              "    </tr>\n",
              "    <tr>\n",
              "      <th>412</th>\n",
              "      <td>down</td>\n",
              "    </tr>\n",
              "    <tr>\n",
              "      <th>301</th>\n",
              "      <td>up</td>\n",
              "    </tr>\n",
              "    <tr>\n",
              "      <th>428</th>\n",
              "      <td>down</td>\n",
              "    </tr>\n",
              "    <tr>\n",
              "      <th>153</th>\n",
              "      <td>down</td>\n",
              "    </tr>\n",
              "  </tbody>\n",
              "</table>\n",
              "<p>105 rows × 1 columns</p>\n",
              "</div><br><label><b>dtype:</b> object</label>"
            ]
          },
          "metadata": {},
          "execution_count": 45
        }
      ]
    },
    {
      "cell_type": "code",
      "source": [
        "with open('count.pkl', 'wb') as f:\n",
        "  pickle.dump(fit_models['rf'], f)"
      ],
      "metadata": {
        "id": "Ohn-3lJCem5Q"
      },
      "execution_count": null,
      "outputs": []
    }
  ]
}