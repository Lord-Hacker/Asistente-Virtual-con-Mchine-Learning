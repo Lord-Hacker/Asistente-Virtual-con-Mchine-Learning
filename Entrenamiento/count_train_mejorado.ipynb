{
  "nbformat": 4,
  "nbformat_minor": 0,
  "metadata": {
    "colab": {
      "provenance": []
    },
    "kernelspec": {
      "name": "python3",
      "display_name": "Python 3"
    },
    "language_info": {
      "name": "python"
    }
  },
  "cells": [
    {
      "cell_type": "markdown",
      "source": [
        "#Adquisición de datos"
      ],
      "metadata": {
        "id": "MUsvNrvublao"
      }
    },
    {
      "cell_type": "code",
      "source": [
        "import numpy as np\n",
        "import pandas as pd\n",
        "from sklearn.model_selection import train_test_split"
      ],
      "metadata": {
        "id": "QFcLOj23YwWW"
      },
      "execution_count": 1,
      "outputs": []
    },
    {
      "cell_type": "code",
      "source": [
        "df = pd.read_csv('count_train.csv')\n",
        "df2 = pd.read_csv('count_test.csv')"
      ],
      "metadata": {
        "id": "ztofQFO1Yuaz"
      },
      "execution_count": 2,
      "outputs": []
    },
    {
      "cell_type": "code",
      "source": [
        "df[df['class']=='up']\n",
        "X = df.drop('class', axis=1)\n",
        "Y = df['class']"
      ],
      "metadata": {
        "id": "whmR9YWEagmF"
      },
      "execution_count": 3,
      "outputs": []
    },
    {
      "cell_type": "code",
      "source": [
        "X_train, X_val, Y_train, Y_val = train_test_split(X, Y, test_size=0.15, random_state=69)"
      ],
      "metadata": {
        "id": "yrxG3TT0bI_a"
      },
      "execution_count": 4,
      "outputs": []
    },
    {
      "cell_type": "code",
      "source": [
        "X_test = df2.drop('class', axis=1)\n",
        "Y_test = df2['class']"
      ],
      "metadata": {
        "id": "NmD2TQBWZ2gw"
      },
      "execution_count": 5,
      "outputs": []
    },
    {
      "cell_type": "code",
      "source": [
        "print(X_train.shape)\n",
        "print(Y_train.shape)\n",
        "print(X_val.shape)\n",
        "print(Y_val.shape)\n",
        "print(X_test.shape)\n",
        "print(Y_test.shape)"
      ],
      "metadata": {
        "colab": {
          "base_uri": "https://localhost:8080/"
        },
        "id": "hZIF9l7Quw5P",
        "outputId": "c49f2b44-9ac9-4025-8744-d7b583c059c5"
      },
      "execution_count": 6,
      "outputs": [
        {
          "output_type": "stream",
          "name": "stdout",
          "text": [
            "(443, 132)\n",
            "(443,)\n",
            "(79, 132)\n",
            "(79,)\n",
            "(71, 132)\n",
            "(71,)\n"
          ]
        }
      ]
    },
    {
      "cell_type": "markdown",
      "source": [
        "#Entrenamiento con sklearn"
      ],
      "metadata": {
        "id": "CRnWrN6Xbwdz"
      }
    },
    {
      "cell_type": "code",
      "source": [
        "from sklearn.metrics import accuracy_score, precision_score, recall_score\n",
        "from sklearn.metrics import log_loss\n",
        "from sklearn.linear_model import SGDClassifier\n",
        "import pickle"
      ],
      "metadata": {
        "id": "TOsY8nEHdhV9"
      },
      "execution_count": 7,
      "outputs": []
    },
    {
      "cell_type": "code",
      "source": [
        "model = SGDClassifier(loss='log_loss', learning_rate='constant', eta0=0.01, random_state=69)\n",
        "\n",
        "n_epochs = 100\n",
        "train_losses = []\n",
        "val_losses = []"
      ],
      "metadata": {
        "id": "AUx-qfYQWr9Q"
      },
      "execution_count": 8,
      "outputs": []
    },
    {
      "cell_type": "code",
      "source": [
        "classes = np.unique(Y_train)\n",
        "\n",
        "for epoch in range(n_epochs):\n",
        "    model.partial_fit(X_train, Y_train, classes=classes)\n",
        "\n",
        "    # Training loss\n",
        "    y_pred = model.predict_proba(X_train)\n",
        "    train_loss = log_loss(Y_train, y_pred)\n",
        "    train_losses.append(train_loss)\n",
        "\n",
        "    # Validation loss\n",
        "    y_val_pred = model.predict_proba(X_val)\n",
        "    val_loss = log_loss(Y_val, y_val_pred)\n",
        "    val_losses.append(val_loss)"
      ],
      "metadata": {
        "id": "l8rGXIdnX0CQ"
      },
      "execution_count": 9,
      "outputs": []
    },
    {
      "cell_type": "code",
      "source": [
        "#curvas de aprendizaje (losses)\n",
        "import matplotlib.pyplot as plt\n",
        "\n",
        "plt.plot(range(n_epochs), train_losses, label='Entrenamiento')\n",
        "plt.plot(range(n_epochs), val_losses, label='Validacion')\n",
        "plt.xlabel('Epoca')\n",
        "plt.ylabel('Función de costo')\n",
        "plt.title('Curvas de aprendizaje')\n",
        "plt.legend()\n",
        "plt.grid(True)\n",
        "plt.show()"
      ],
      "metadata": {
        "colab": {
          "base_uri": "https://localhost:8080/",
          "height": 472
        },
        "id": "tlSxiELAYO-r",
        "outputId": "31552055-a7dd-4b30-abb5-ff4731c1b6a8"
      },
      "execution_count": 10,
      "outputs": [
        {
          "output_type": "display_data",
          "data": {
            "text/plain": [
              "<Figure size 640x480 with 1 Axes>"
            ],
            "image/png": "[encoded data removed]"
          },
          "metadata": {}
        }
      ]
    },
    {
      "cell_type": "code",
      "source": [
        "y_test_pred = model.predict(X_test)"
      ],
      "metadata": {
        "id": "DqxP-Q06h3Si"
      },
      "execution_count": 13,
      "outputs": []
    },
    {
      "cell_type": "code",
      "source": [
        "y_test_pred"
      ],
      "metadata": {
        "colab": {
          "base_uri": "https://localhost:8080/"
        },
        "id": "PNsuyIg9nYBg",
        "outputId": "6c7144fa-fcc9-40ef-a462-afbd23590658"
      },
      "execution_count": 14,
      "outputs": [
        {
          "output_type": "execute_result",
          "data": {
            "text/plain": [
              "array(['down', 'down', 'down', 'down', 'down', 'down', 'down', 'down',\n",
              "       'down', 'down', 'down', 'down', 'down', 'down', 'down', 'down',\n",
              "       'down', 'down', 'down', 'down', 'down', 'down', 'up', 'up', 'up',\n",
              "       'up', 'up', 'up', 'up', 'down', 'down', 'down', 'down', 'down',\n",
              "       'down', 'down', 'down', 'up', 'up', 'up', 'up', 'up', 'up', 'up',\n",
              "       'up', 'up', 'down', 'down', 'down', 'down', 'down', 'down', 'down',\n",
              "       'down', 'down', 'down', 'down', 'down', 'up', 'up', 'up', 'up',\n",
              "       'up', 'up', 'up', 'up', 'down', 'down', 'down', 'down', 'down'],\n",
              "      dtype='<U4')"
            ]
          },
          "metadata": {},
          "execution_count": 14
        }
      ]
    },
    {
      "cell_type": "code",
      "source": [
        "Y_test"
      ],
      "metadata": {
        "colab": {
          "base_uri": "https://localhost:8080/",
          "height": 459
        },
        "id": "Hw2HiSishukS",
        "outputId": "81bb7d73-535a-4bb8-ef25-452208b62a84"
      },
      "execution_count": 15,
      "outputs": [
        {
          "output_type": "execute_result",
          "data": {
            "text/plain": [
              "0     down\n",
              "1     down\n",
              "2     down\n",
              "3     down\n",
              "4     down\n",
              "      ... \n",
              "66    down\n",
              "67    down\n",
              "68    down\n",
              "69    down\n",
              "70    down\n",
              "Name: class, Length: 71, dtype: object"
            ],
            "text/html": [
              "<div>\n",
              "<style scoped>\n",
              "    .dataframe tbody tr th:only-of-type {\n",
              "        vertical-align: middle;\n",
              "    }\n",
              "\n",
              "    .dataframe tbody tr th {\n",
              "        vertical-align: top;\n",
              "    }\n",
              "\n",
              "    .dataframe thead th {\n",
              "        text-align: right;\n",
              "    }\n",
              "</style>\n",
              "<table border=\"1\" class=\"dataframe\">\n",
              "  <thead>\n",
              "    <tr style=\"text-align: right;\">\n",
              "      <th></th>\n",
              "      <th>class</th>\n",
              "    </tr>\n",
              "  </thead>\n",
              "  <tbody>\n",
              "    <tr>\n",
              "      <th>0</th>\n",
              "      <td>down</td>\n",
              "    </tr>\n",
              "    <tr>\n",
              "      <th>1</th>\n",
              "      <td>down</td>\n",
              "    </tr>\n",
              "    <tr>\n",
              "      <th>2</th>\n",
              "      <td>down</td>\n",
              "    </tr>\n",
              "    <tr>\n",
              "      <th>3</th>\n",
              "      <td>down</td>\n",
              "    </tr>\n",
              "    <tr>\n",
              "      <th>4</th>\n",
              "      <td>down</td>\n",
              "    </tr>\n",
              "    <tr>\n",
              "      <th>...</th>\n",
              "      <td>...</td>\n",
              "    </tr>\n",
              "    <tr>\n",
              "      <th>66</th>\n",
              "      <td>down</td>\n",
              "    </tr>\n",
              "    <tr>\n",
              "      <th>67</th>\n",
              "      <td>down</td>\n",
              "    </tr>\n",
              "    <tr>\n",
              "      <th>68</th>\n",
              "      <td>down</td>\n",
              "    </tr>\n",
              "    <tr>\n",
              "      <th>69</th>\n",
              "      <td>down</td>\n",
              "    </tr>\n",
              "    <tr>\n",
              "      <th>70</th>\n",
              "      <td>down</td>\n",
              "    </tr>\n",
              "  </tbody>\n",
              "</table>\n",
              "<p>71 rows × 1 columns</p>\n",
              "</div><br><label><b>dtype:</b> object</label>"
            ]
          },
          "metadata": {},
          "execution_count": 15
        }
      ]
    },
    {
      "cell_type": "markdown",
      "source": [
        "#Evaluación y exportado a pickle"
      ],
      "metadata": {
        "id": "1tE8rD2bdT-C"
      }
    },
    {
      "cell_type": "code",
      "source": [
        "precision_score(Y_test, y_test_pred, average='macro')"
      ],
      "metadata": {
        "colab": {
          "base_uri": "https://localhost:8080/"
        },
        "id": "Ur9KVSF3xYpl",
        "outputId": "255bc3f7-3742-4b12-e9c2-46137ee342ec"
      },
      "execution_count": 16,
      "outputs": [
        {
          "output_type": "execute_result",
          "data": {
            "text/plain": [
              "1.0"
            ]
          },
          "metadata": {},
          "execution_count": 16
        }
      ]
    },
    {
      "cell_type": "code",
      "source": [
        "from sklearn.metrics import confusion_matrix\n",
        "confusion_matrix = confusion_matrix(Y_test, y_test_pred)\n",
        "\n",
        "plt.figure(figsize=(3,3))\n",
        "plt.title('Matriz de confusión')\n",
        "plt.imshow(confusion_matrix)\n",
        "plt.ylabel('Real')\n",
        "plt.xlabel('Prediccion')\n",
        "plt.xticks([])\n",
        "plt.yticks([])\n",
        "\n",
        "filas, cols = confusion_matrix.shape\n",
        "for r in range(filas):\n",
        "  for c in range(cols):\n",
        "    plt.text(c, r, str(confusion_matrix[r, c]),\n",
        "        ha='center', va='center', color='black')\n",
        "plt.show()"
      ],
      "metadata": {
        "colab": {
          "base_uri": "https://localhost:8080/",
          "height": 309
        },
        "id": "0W6Wr3P_xZst",
        "outputId": "8bb6e62a-6fca-40c1-d9b5-40e7b4df4501"
      },
      "execution_count": 17,
      "outputs": [
        {
          "output_type": "display_data",
          "data": {
            "text/plain": [
              "<Figure size 300x300 with 1 Axes>"
            ],
            "image/png": "[encoded data removed]"
          },
          "metadata": {}
        }
      ]
    },
    {
      "cell_type": "code",
      "source": [
        "with open('count.pkl', 'wb') as f:\n",
        "  pickle.dump(model, f)"
      ],
      "metadata": {
        "id": "Ohn-3lJCem5Q"
      },
      "execution_count": 18,
      "outputs": []
    }
  ]
}